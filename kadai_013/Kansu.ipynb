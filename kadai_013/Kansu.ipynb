{
  "nbformat": 4,
  "nbformat_minor": 0,
  "metadata": {
    "colab": {
      "provenance": [],
      "authorship_tag": "ABX9TyO+e4U8vlOP93VtRoJQciqZ",
      "include_colab_link": true
    },
    "kernelspec": {
      "name": "python3",
      "display_name": "Python 3"
    },
    "language_info": {
      "name": "python"
    }
  },
  "cells": [
    {
      "cell_type": "markdown",
      "metadata": {
        "id": "view-in-github",
        "colab_type": "text"
      },
      "source": [
        "<a href=\"https://colab.research.google.com/github/ss66-cloud/git-basic-kadai/blob/main/kadai_013/Kansu.ipynb\" target=\"_parent\"><img src=\"https://colab.research.google.com/assets/colab-badge.svg\" alt=\"Open In Colab\"/></a>"
      ]
    },
    {
      "cell_type": "code",
      "execution_count": 1,
      "metadata": {
        "id": "PJ6EXI1BeIq5",
        "colab": {
          "base_uri": "https://localhost:8080/"
        },
        "outputId": "614af96c-b1ac-4f3f-baf5-f1b5fc219a64"
      },
      "outputs": [
        {
          "output_type": "execute_result",
          "data": {
            "text/plain": [
              "110.0"
            ]
          },
          "metadata": {},
          "execution_count": 1
        }
      ],
      "source": [
        "def calc_price(price: int, tax: int):\n",
        "  total = price + price * tax / 100\n",
        "  return total\n",
        "  print(total)\n",
        "\n",
        "\n",
        "calc_price(100,10)\n",
        "\n",
        "\n"
      ]
    },
    {
      "cell_type": "markdown",
      "source": [],
      "metadata": {
        "id": "9JMs_Nml7E36"
      }
    }
  ]
}