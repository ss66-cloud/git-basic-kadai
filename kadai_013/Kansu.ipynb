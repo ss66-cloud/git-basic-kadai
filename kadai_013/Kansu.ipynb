{
  "nbformat": 4,
  "nbformat_minor": 0,
  "metadata": {
    "colab": {
      "provenance": [],
      "authorship_tag": "ABX9TyNNsWjEX/ofQ/nPJmvjglZb",
      "include_colab_link": true
    },
    "kernelspec": {
      "name": "python3",
      "display_name": "Python 3"
    },
    "language_info": {
      "name": "python"
    }
  },
  "cells": [
    {
      "cell_type": "markdown",
      "metadata": {
        "id": "view-in-github",
        "colab_type": "text"
      },
      "source": [
        "<a href=\"https://colab.research.google.com/github/ss66-cloud/git-basic-kadai/blob/main/kadai_013/Kansu.ipynb\" target=\"_parent\"><img src=\"https://colab.research.google.com/assets/colab-badge.svg\" alt=\"Open In Colab\"/></a>"
      ]
    },
    {
      "cell_type": "code",
      "execution_count": 1,
      "metadata": {
        "id": "PJ6EXI1BeIq5",
        "colab": {
          "base_uri": "https://localhost:8080/"
        },
        "outputId": "99ded339-b41a-481e-d73a-617ed9b7a1d6"
      },
      "outputs": [
        {
          "output_type": "stream",
          "name": "stdout",
          "text": [
            "110.0\n"
          ]
        }
      ],
      "source": [
        "def calc_price(price: int, tax: int):\n",
        "  total = price + price * tax / 100\n",
        "  return total\n",
        "\n",
        "\n",
        "print(calc_price(100,10))\n",
        "\n",
        "\n"
      ]
    },
    {
      "cell_type": "markdown",
      "source": [],
      "metadata": {
        "id": "9JMs_Nml7E36"
      }
    }
  ]
}